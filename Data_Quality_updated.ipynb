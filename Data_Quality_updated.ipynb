{
 "cells": [
  {
   "cell_type": "markdown",
   "id": "aea18470",
   "metadata": {},
   "source": [
    "# Data quality critiria last edit on 28 OCT"
   ]
  },
  {
   "cell_type": "code",
   "execution_count": 6,
   "id": "d9250c15",
   "metadata": {},
   "outputs": [],
   "source": [
    "#pip install missingno"
   ]
  },
  {
   "cell_type": "code",
   "execution_count": 4,
   "id": "5a868930",
   "metadata": {},
   "outputs": [],
   "source": [
    "import pandas as pd\n",
    "import numpy as np\n",
    "import matplotlib as plt\n",
    "import seaborn as sns\n",
    "import matplotlib.pyplot as plt\n",
    "import missingno as msno"
   ]
  },
  {
   "cell_type": "code",
   "execution_count": 5,
   "id": "f4194f46",
   "metadata": {},
   "outputs": [],
   "source": [
    "data=pd.read_excel(r'',sheet_name='')"
   ]
  },
  {
   "cell_type": "markdown",
   "id": "93cc5814",
   "metadata": {},
   "source": [
    "Dataset Info"
   ]
  },
  {
   "cell_type": "code",
   "execution_count": 58,
   "id": "d681e00b",
   "metadata": {},
   "outputs": [],
   "source": [
    "len(data)"
   ]
  },
  {
   "cell_type": "code",
   "execution_count": 59,
   "id": "3e2d0e3f",
   "metadata": {},
   "outputs": [],
   "source": [
    "print(data.size)"
   ]
  },
  {
   "cell_type": "code",
   "execution_count": 60,
   "id": "a6e5a175",
   "metadata": {},
   "outputs": [],
   "source": [
    "#columns, rows\n",
    "data.shape"
   ]
  },
  {
   "cell_type": "code",
   "execution_count": 61,
   "id": "06e91a91",
   "metadata": {},
   "outputs": [],
   "source": [
    "data.columns"
   ]
  },
  {
   "cell_type": "code",
   "execution_count": 62,
   "id": "e306732d",
   "metadata": {},
   "outputs": [],
   "source": [
    "data.info()"
   ]
  },
  {
   "cell_type": "code",
   "execution_count": 63,
   "id": "376eaec0",
   "metadata": {},
   "outputs": [],
   "source": [
    "data.head()"
   ]
  },
  {
   "cell_type": "code",
   "execution_count": 64,
   "id": "71b2f5da",
   "metadata": {},
   "outputs": [],
   "source": [
    "data.describe().T"
   ]
  },
  {
   "cell_type": "code",
   "execution_count": null,
   "id": "1d2cfdd0",
   "metadata": {},
   "outputs": [],
   "source": [
    "def extreme_values(df):\n",
    "    names=[]\n",
    "    max_=[]\n",
    "    min_=[]\n",
    "    Q1=[]\n",
    "    Q3=[]\n",
    "    IQR=[]\n",
    "    upper=[]\n",
    "    lower=[]\n",
    "    mean_=[]\n",
    "    std_=[]\n",
    "    mode_=[]\n",
    "    for col in df.columns: \n",
    "        #print('coluumn:', col)\n",
    "        try:\n",
    "            df[col] = pd.to_numeric(df[col]) \n",
    "#             plt.figure(figsize=(17,1))\n",
    "#             sns.boxplot(data=df, x=col)\n",
    "            #print('Minimum Vlaue:' ,df[col].min())    \n",
    "            #print('Maximum Vlaue:' , df[col].max(),'\\n') \n",
    "            names.append(col)\n",
    "            mean_.append(df[col].mean())\n",
    "            mode_.append(df[col].mode())\n",
    "            std_.append(np.std(df[col]))\n",
    "            min_.append(df[col].min())\n",
    "            max_.append(df[col].max())\n",
    "            Q1.append(df[col].quantile(0.25))\n",
    "            Q3.append(df[col].quantile(0.75))\n",
    "            IQR.append((df[col].quantile(0.75)) - (df[col].quantile(0.25)))\n",
    "            upper.append(df[col].quantile(0.75) +(1.5*( df[col].quantile(0.75) -df[col].quantile(0.25))))\n",
    "            lower.append(df[col].quantile(0.25)-(1.5*(df[col].quantile(0.75) -df[col].quantile(0.25))))\n",
    "        except:\n",
    "            print('non numerical column \\n')\n",
    "            print('*************')                       \n",
    "\n",
    "   \n",
    "    values_range = pd.DataFrame(\n",
    "        {'column_name': names,\n",
    "         'mean':mean_,\n",
    "         'mode':mode_,\n",
    "         'std':std_,\n",
    "         'max':max_,\n",
    "         'min': min_,\n",
    "         'Q1':Q1,\n",
    "         'Q3':Q3,\n",
    "         'IQR':IQR,\n",
    "         'upper':upper,\n",
    "         'lower':lower\n",
    "})\n",
    "    display(values_range)"
   ]
  },
  {
   "cell_type": "code",
   "execution_count": null,
   "id": "81692a6e",
   "metadata": {},
   "outputs": [],
   "source": [
    "#max and min values\n",
    "range_values= extreme_values(data)\n",
    "range_values"
   ]
  },
  {
   "cell_type": "markdown",
   "id": "cc51d04a",
   "metadata": {},
   "source": [
    "Duplicated Values"
   ]
  },
  {
   "cell_type": "code",
   "execution_count": 65,
   "id": "2ae01ff6",
   "metadata": {},
   "outputs": [],
   "source": [
    "len(data.drop_duplicates())"
   ]
  },
  {
   "cell_type": "code",
   "execution_count": 66,
   "id": "9c7ed76e",
   "metadata": {},
   "outputs": [],
   "source": [
    "data.drop_duplicates()\n",
    "print(data)"
   ]
  },
  {
   "cell_type": "markdown",
   "id": "033cd12d",
   "metadata": {},
   "source": [
    "Missing Values"
   ]
  },
  {
   "cell_type": "code",
   "execution_count": 17,
   "id": "34e150a7",
   "metadata": {},
   "outputs": [],
   "source": [
    "# DFO.isna().sum()"
   ]
  },
  {
   "cell_type": "code",
   "execution_count": 20,
   "id": "2da56e94",
   "metadata": {},
   "outputs": [],
   "source": [
    "def missing_values_table(df):\n",
    "        # Total missing values\n",
    "        mis_val = df.isnull().sum()\n",
    "        \n",
    "        # Percentage of missing values\n",
    "        mis_val_percent = 100 * df.isnull().sum() / len(df)\n",
    "        \n",
    "        # Make a table with the results\n",
    "        mis_val_table = pd.concat([mis_val, mis_val_percent], axis=1)\n",
    "        \n",
    "        # Rename the columns\n",
    "        mis_val_table_ren_columns = mis_val_table.rename(\n",
    "        columns = {0 : 'Missing Values', 1 : '% of Total Values'})\n",
    "        \n",
    "        # Sort the table by percentage of missing descending\n",
    "        mis_val_table_ren_columns = mis_val_table_ren_columns[\n",
    "            mis_val_table_ren_columns.iloc[:,1] != 0].sort_values(\n",
    "        '% of Total Values', ascending=False).round(1)\n",
    "        \n",
    "        # Print some summary information\n",
    "        print (\"Your selected dataframe has \" + str(df.shape[1]) + \" columns.\\n\"      \n",
    "            \"There are \" + str(mis_val_table_ren_columns.shape[0]) +\n",
    "              \" columns that have missing values.\")\n",
    "        \n",
    "        # Return the dataframe with missing information\n",
    "        return mis_val_table_ren_columns"
   ]
  },
  {
   "cell_type": "code",
   "execution_count": 67,
   "id": "9cb17c75",
   "metadata": {},
   "outputs": [],
   "source": [
    "missing_data_per_count= missing_values_table(data)\n",
    "missing_data_per_count"
   ]
  },
  {
   "cell_type": "code",
   "execution_count": 68,
   "id": "1a12b900",
   "metadata": {},
   "outputs": [],
   "source": [
    "msno.bar(data)"
   ]
  },
  {
   "cell_type": "code",
   "execution_count": 17,
   "id": "83899df6",
   "metadata": {},
   "outputs": [],
   "source": [
    "# msno.matrix(DFO)"
   ]
  },
  {
   "cell_type": "code",
   "execution_count": 69,
   "id": "af55bb3b",
   "metadata": {},
   "outputs": [],
   "source": [
    "msno.dendrogram(data)"
   ]
  },
  {
   "cell_type": "markdown",
   "id": "34e3fc28",
   "metadata": {},
   "source": [
    "# Exploring column values"
   ]
  },
  {
   "cell_type": "code",
   "execution_count": 70,
   "id": "4d98876d",
   "metadata": {},
   "outputs": [],
   "source": [
    "LI=data.select_dtypes(include=[np.datetime64])\n",
    "LI.columns\n",
    "df1=data.drop(columns=LI.columns,axis=1)\n",
    "df1"
   ]
  },
  {
   "cell_type": "code",
   "execution_count": 23,
   "id": "534f637f",
   "metadata": {},
   "outputs": [],
   "source": [
    "# L=DFO.select_dtypes(include=[np.number])\n",
    "# sns.heatmap(L, annot=True)"
   ]
  },
  {
   "cell_type": "code",
   "execution_count": 71,
   "id": "5813394c",
   "metadata": {},
   "outputs": [],
   "source": [
    "#correlation\n",
    "corr_=data.corr().unstack().sort_values(ascending=False).drop_duplicates().reset_index(name='cor')\n",
    "corr_.loc[corr_['cor']>=0.5]"
   ]
  },
  {
   "cell_type": "code",
   "execution_count": null,
   "id": "74313fd4",
   "metadata": {},
   "outputs": [],
   "source": []
  },
  {
   "cell_type": "markdown",
   "id": "b41dd1bf",
   "metadata": {},
   "source": [
    "Unique values in a column"
   ]
  },
  {
   "cell_type": "code",
   "execution_count": 34,
   "id": "2a187180",
   "metadata": {},
   "outputs": [],
   "source": [
    "def colum_values_len(df):\n",
    "    values=[]\n",
    "    un_counts=[]\n",
    "    names=[]\n",
    "    leng=[]\n",
    "    for i in df.columns:\n",
    "#         print ((DFO[i].apply(type)))\n",
    "#          if (np.issubdtype(df[i].dtype, np.datetime64)):\n",
    "# # #           print('yes')\n",
    "#               continue\n",
    "#          else:\n",
    "          \n",
    "            names.append(i)\n",
    "        #     print('Column:',i)\n",
    "            leng.append(len(df[i]))\n",
    "            un_counts.append(len(df[i].dropna().unique()))\n",
    "            #print('Number of unique values:',len(DFO[i].unique()),'\\n')\n",
    "            #print('unique values are:',(DFO[i].unique().tolist()),'\\n')\n",
    "            #values.append((len(df[i].dropna().unique())/len(df[i]))*100)\n",
    "            #values.append(df[i].dropna().unique().tolist())\n",
    "    columns_len = pd.DataFrame(\n",
    "        {'column_name': names,\n",
    "         'column_length':leng,\n",
    "         'Num_unique_values': un_counts\n",
    "         #'Perc': values,\n",
    "        })\n",
    "    display(columns_len)"
   ]
  },
  {
   "cell_type": "code",
   "execution_count": 72,
   "id": "604386c8",
   "metadata": {},
   "outputs": [],
   "source": [
    "col_len_and_un_len= colum_values_len(data)\n",
    "col_len_and_un_len"
   ]
  },
  {
   "cell_type": "markdown",
   "id": "36e0fbd8",
   "metadata": {},
   "source": [
    "Values counts  for each column"
   ]
  },
  {
   "cell_type": "code",
   "execution_count": 36,
   "id": "e1530d3a",
   "metadata": {},
   "outputs": [],
   "source": [
    "def col_values_counts(df):\n",
    "        #column values and percentage\n",
    "    for column in df:\n",
    "\n",
    "        counts = df[column].value_counts()\n",
    "        #sns.countplot(x=column,data=df)\n",
    "    #     percent = DFO[column].value_counts(normalize=True)\n",
    "        percent100 = df[column].value_counts(normalize=True).mul(100).round(1).astype(str) + '%'\n",
    "        #display(pd.DataFrame({'column':column,'counts': counts, 'per': percent, 'per100': percent100}))\n",
    "        data=pd.DataFrame({'column':column,'counts': counts,  'per': percent100})\n",
    "        display(data)\n",
    "        "
   ]
  },
  {
   "cell_type": "code",
   "execution_count": 73,
   "id": "c5c85d08",
   "metadata": {},
   "outputs": [],
   "source": [
    "col_values_counts1= col_values_counts(data)\n",
    "col_values_counts1"
   ]
  },
  {
   "cell_type": "code",
   "execution_count": null,
   "id": "fdc45ab6",
   "metadata": {},
   "outputs": [],
   "source": []
  },
  {
   "cell_type": "markdown",
   "id": "1e610a55",
   "metadata": {},
   "source": [
    "Values Distribution"
   ]
  },
  {
   "cell_type": "code",
   "execution_count": 74,
   "id": "4773db87",
   "metadata": {},
   "outputs": [],
   "source": [
    "data.hist(alpha=0.5, figsize=(20, 10),xrot =45)\n",
    "plt.xticks(rotation=90)\n",
    "plt.tight_layout()\n",
    "plt.show()"
   ]
  },
  {
   "cell_type": "code",
   "execution_count": 42,
   "id": "516070da",
   "metadata": {},
   "outputs": [],
   "source": [
    "# sns.displot(data, stat = 'density')\n",
    "# plt.show()"
   ]
  },
  {
   "cell_type": "markdown",
   "id": "5d5036b1",
   "metadata": {},
   "source": [
    "Values_range"
   ]
  },
  {
   "cell_type": "code",
   "execution_count": 53,
   "id": "1ae99e8a",
   "metadata": {},
   "outputs": [],
   "source": [
    "def box_plot(df):\n",
    "   \n",
    "    for col in df.columns: \n",
    "        #print('coluumn:', col)\n",
    "        try:\n",
    "            df[col] = pd.to_numeric(df[col]) \n",
    "            if (np.issubdtype(df[col].dtype, np.datetime64)):\n",
    "                continue\n",
    "            else:\n",
    "#             if( df[col].type()==datetime64[ns]):\n",
    "#                 print('yes')\n",
    "            #print('column name',col)\n",
    "                plt.figure(figsize=(17,1))\n",
    "                ax=sns.boxplot(data=df, x=col)\n",
    "                ax.get_xaxis().get_major_formatter().set_scientific(False)\n",
    "\n",
    "            #print('Minimum Vlaue:' ,df[col].min())    \n",
    "            #print('Maximum Vlaue:' , df[col].max(),'\\n')  \n",
    "            \n",
    "           \n",
    "        except:\n",
    "            print('non numerical column \\n')\n",
    "            #print('*************')                       \n",
    "    "
   ]
  },
  {
   "cell_type": "code",
   "execution_count": 75,
   "id": "9b1ff337",
   "metadata": {},
   "outputs": [],
   "source": [
    "range_values_plot= box_plot(data)\n",
    "range_values_plot"
   ]
  },
  {
   "cell_type": "code",
   "execution_count": 57,
   "id": "4f275b03",
   "metadata": {},
   "outputs": [],
   "source": [
    "# #column values length\n",
    "# for col in data.columns:\n",
    "#     data[col+'_len']=data[col].astype(str).map(len)"
   ]
  }
 ],
 "metadata": {
  "kernelspec": {
   "display_name": "Python 3 (ipykernel)",
   "language": "python",
   "name": "python3"
  },
  "language_info": {
   "codemirror_mode": {
    "name": "ipython",
    "version": 3
   },
   "file_extension": ".py",
   "mimetype": "text/x-python",
   "name": "python",
   "nbconvert_exporter": "python",
   "pygments_lexer": "ipython3",
   "version": "3.9.13"
  }
 },
 "nbformat": 4,
 "nbformat_minor": 5
}
